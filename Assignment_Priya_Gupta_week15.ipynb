{
  "nbformat": 4,
  "nbformat_minor": 0,
  "metadata": {
    "colab": {
      "name": "Assignment_Priya Gupta_week15.ipynb",
      "provenance": [],
      "authorship_tag": "ABX9TyMXPN68vFJpRiZJqOMhqDwa",
      "include_colab_link": true
    },
    "kernelspec": {
      "name": "python3",
      "display_name": "Python 3"
    },
    "language_info": {
      "name": "python"
    }
  },
  "cells": [
    {
      "cell_type": "markdown",
      "metadata": {
        "id": "view-in-github",
        "colab_type": "text"
      },
      "source": [
        "<a href=\"https://colab.research.google.com/github/PG-2597/UIDAI-PySpark/blob/main/Assignment_Priya_Gupta_week15.ipynb\" target=\"_parent\"><img src=\"https://colab.research.google.com/assets/colab-badge.svg\" alt=\"Open In Colab\"/></a>"
      ]
    },
    {
      "cell_type": "markdown",
      "source": [
        "##**Data Analysis on UIDAI-ENR-DETAIL Database using PySpark**"
      ],
      "metadata": {
        "id": "x2pup7d2Mdwp"
      }
    },
    {
      "cell_type": "markdown",
      "source": [
        "###**Installing and Initializing Pyspark and SparkContext:**"
      ],
      "metadata": {
        "id": "UUSJFROvKBxZ"
      }
    },
    {
      "cell_type": "code",
      "source": [
        "pip install pyspark"
      ],
      "metadata": {
        "colab": {
          "base_uri": "https://localhost:8080/"
        },
        "id": "I9EwyJ1AKlyD",
        "outputId": "c916cbb4-41f5-411d-83ed-17766e53469d"
      },
      "execution_count": 3,
      "outputs": [
        {
          "output_type": "stream",
          "name": "stdout",
          "text": [
            "Looking in indexes: https://pypi.org/simple, https://us-python.pkg.dev/colab-wheels/public/simple/\n",
            "Collecting pyspark\n",
            "  Downloading pyspark-3.3.0.tar.gz (281.3 MB)\n",
            "\u001b[K     |████████████████████████████████| 281.3 MB 34 kB/s \n",
            "\u001b[?25hCollecting py4j==0.10.9.5\n",
            "  Downloading py4j-0.10.9.5-py2.py3-none-any.whl (199 kB)\n",
            "\u001b[K     |████████████████████████████████| 199 kB 35.2 MB/s \n",
            "\u001b[?25hBuilding wheels for collected packages: pyspark\n",
            "  Building wheel for pyspark (setup.py) ... \u001b[?25l\u001b[?25hdone\n",
            "  Created wheel for pyspark: filename=pyspark-3.3.0-py2.py3-none-any.whl size=281764026 sha256=db7cdf0be1025abc72f4dac08b5fb1dddd4c82b84c94d1d8cae93d1beefbc29e\n",
            "  Stored in directory: /root/.cache/pip/wheels/7a/8e/1b/f73a52650d2e5f337708d9f6a1750d451a7349a867f928b885\n",
            "Successfully built pyspark\n",
            "Installing collected packages: py4j, pyspark\n",
            "Successfully installed py4j-0.10.9.5 pyspark-3.3.0\n"
          ]
        }
      ]
    },
    {
      "cell_type": "code",
      "source": [
        "#Initializing PySpark\n",
        "from pyspark import SparkContext, SparkConf\n",
        "from pyspark.sql import SparkSession\n",
        "from pyspark.sql import SQLContext\n",
        "#Spark Configuration\n",
        "conf = SparkConf().setAppName(\"sample_app\")\n",
        "sc = SparkContext(conf=conf)\n",
        "spark = SparkSession.builder.appName('SparkByExamples.com').getOrCreate()\n",
        "sqlContext = SQLContext(sc)\n"
      ],
      "metadata": {
        "colab": {
          "base_uri": "https://localhost:8080/"
        },
        "id": "KPtdPaZHKuw0",
        "outputId": "430cc358-75a9-4205-f9f4-f160394616a0"
      },
      "execution_count": 4,
      "outputs": [
        {
          "output_type": "stream",
          "name": "stderr",
          "text": [
            "/usr/local/lib/python3.7/dist-packages/pyspark/sql/context.py:114: FutureWarning: Deprecated in 3.0.0. Use SparkSession.builder.getOrCreate() instead.\n",
            "  FutureWarning,\n"
          ]
        }
      ]
    },
    {
      "cell_type": "code",
      "source": [
        "sc"
      ],
      "metadata": {
        "colab": {
          "base_uri": "https://localhost:8080/",
          "height": 196
        },
        "id": "rcZ2XrlbMYSe",
        "outputId": "4bb1d936-ca55-4ba3-9089-5dc4ee3b90a3"
      },
      "execution_count": 5,
      "outputs": [
        {
          "output_type": "execute_result",
          "data": {
            "text/plain": [
              "<SparkContext master=local[*] appName=sample_app>"
            ],
            "text/html": [
              "\n",
              "        <div>\n",
              "            <p><b>SparkContext</b></p>\n",
              "\n",
              "            <p><a href=\"http://5dd567d22000:4040\">Spark UI</a></p>\n",
              "\n",
              "            <dl>\n",
              "              <dt>Version</dt>\n",
              "                <dd><code>v3.3.0</code></dd>\n",
              "              <dt>Master</dt>\n",
              "                <dd><code>local[*]</code></dd>\n",
              "              <dt>AppName</dt>\n",
              "                <dd><code>sample_app</code></dd>\n",
              "            </dl>\n",
              "        </div>\n",
              "        "
            ]
          },
          "metadata": {},
          "execution_count": 5
        }
      ]
    },
    {
      "cell_type": "markdown",
      "source": [
        "###Reading the File and Loading The Data into a Dataframe:-"
      ],
      "metadata": {
        "id": "SnCq_kNmMxzj"
      }
    },
    {
      "cell_type": "code",
      "source": [
        "df = spark.read.format(\"csv\").option(\"header\", \"true\").option(\"inferSchema\",\"true\").load(\"/content/UIDAI-ENR-DETAIL-20170308.csv\")"
      ],
      "metadata": {
        "id": "Eckt8OJpOI5Q"
      },
      "execution_count": 6,
      "outputs": []
    },
    {
      "cell_type": "code",
      "source": [
        "df.show(10)"
      ],
      "metadata": {
        "colab": {
          "base_uri": "https://localhost:8080/"
        },
        "id": "G34HL_40PwzA",
        "outputId": "635f9257-0fc3-4d31-c6b3-20d3103cba92"
      },
      "execution_count": 10,
      "outputs": [
        {
          "output_type": "stream",
          "name": "stdout",
          "text": [
            "+--------------+--------------------+-------------+---------+------------+--------+------+---+-----------------+------------------+-------------------------+---------------------------------+\n",
            "|     Registrar|    Enrolment Agency|        State| District|Sub District|Pin Code|Gender|Age|Aadhaar generated|Enrolment Rejected|Residents providing email|Residents providing mobile number|\n",
            "+--------------+--------------------+-------------+---------+------------+--------+------+---+-----------------+------------------+-------------------------+---------------------------------+\n",
            "|Allahabad Bank|A-Onerealtors Pvt...|Uttar Pradesh|Allahabad|        Meja|  212303|     F|  7|                1|                 0|                        0|                                1|\n",
            "|Allahabad Bank|Asha Security Gua...|Uttar Pradesh|Sonbhadra| Robertsganj|  231213|     M|  8|                1|                 0|                        0|                                0|\n",
            "|Allahabad Bank|   SGS INDIA PVT LTD|Uttar Pradesh|Sultanpur|   Sultanpur|  227812|     F| 13|                1|                 0|                        0|                                1|\n",
            "|Allahabad Bank|Sri Ramraja Sarka...|Uttar Pradesh|   Shamli|      Shamli|  247775|     M|  6|                1|                 0|                        0|                                1|\n",
            "|Allahabad Bank|  Transmoovers India|Uttar Pradesh|Gorakhpur|    Sahjanwa|  273001|     M|  8|                1|                 0|                        0|                                1|\n",
            "|Allahabad Bank|  Transmoovers India|Uttar Pradesh| Varanasi|      Pindra|  221101|     M| 14|                1|                 0|                        0|                                1|\n",
            "|Allahabad Bank|  Transmoovers India|Uttar Pradesh| Varanasi|    Varanasi|  221001|     M|  9|                1|                 0|                        0|                                1|\n",
            "|Allahabad Bank|  Transmoovers India|Uttar Pradesh| Varanasi|    Varanasi|  221002|     M|  4|                1|                 0|                        0|                                1|\n",
            "|Allahabad Bank|  Transmoovers India|Uttar Pradesh| Varanasi|    Varanasi|  221002|     M| 10|                0|                 1|                        0|                                1|\n",
            "|Allahabad Bank|  Transmoovers India|Uttar Pradesh| Varanasi|    Varanasi|  221002|     M| 19|                1|                 0|                        0|                                1|\n",
            "+--------------+--------------------+-------------+---------+------------+--------+------+---+-----------------+------------------+-------------------------+---------------------------------+\n",
            "only showing top 10 rows\n",
            "\n"
          ]
        }
      ]
    },
    {
      "cell_type": "markdown",
      "source": [
        "###1.Create a dataframe with Total Aadhaar's generated for each state."
      ],
      "metadata": {
        "id": "G7abiPaeQKAN"
      }
    },
    {
      "cell_type": "markdown",
      "source": [
        "### If we see Aadhar generated column, there are values=0 as well. So, **first we need to filter our data.**"
      ],
      "metadata": {
        "id": "LLSL5ZUXfuE3"
      }
    },
    {
      "cell_type": "code",
      "source": [
        "get_filtered_data=df.filter(df[\"Aadhaar generated\"]>=1)"
      ],
      "metadata": {
        "id": "E3OEOjYBfzT1"
      },
      "execution_count": 12,
      "outputs": []
    },
    {
      "cell_type": "code",
      "source": [
        "import pyspark.sql.functions as f"
      ],
      "metadata": {
        "id": "n145E2tERVp8"
      },
      "execution_count": 8,
      "outputs": []
    },
    {
      "cell_type": "code",
      "source": [
        "res=get_filtered_data.groupby(\"State\").agg(f.sum(\"Aadhaar generated\").alias(\"Total_Aadhar_Generated\"))\n",
        "res.show()"
      ],
      "metadata": {
        "colab": {
          "base_uri": "https://localhost:8080/"
        },
        "id": "pOJoREr7QXP8",
        "outputId": "c86fe31a-bf76-4c83-df55-357900b7e863"
      },
      "execution_count": 13,
      "outputs": [
        {
          "output_type": "stream",
          "name": "stdout",
          "text": [
            "+-----------------+----------------------+\n",
            "|            State|Total_Aadhar_Generated|\n",
            "+-----------------+----------------------+\n",
            "|         Nagaland|                    11|\n",
            "|        Karnataka|                  1909|\n",
            "|           Odisha|                   986|\n",
            "|           Kerala|                    21|\n",
            "|       Tamil Nadu|                  8653|\n",
            "|     Chhattisgarh|                   758|\n",
            "|   Andhra Pradesh|                   149|\n",
            "|   Madhya Pradesh|                  1448|\n",
            "|           Punjab|                  2651|\n",
            "|          Manipur|                     6|\n",
            "|              Goa|                     5|\n",
            "|          Mizoram|                    19|\n",
            "| Himachal Pradesh|                    12|\n",
            "|       Puducherry|                     7|\n",
            "|          Haryana|                   635|\n",
            "|Jammu and Kashmir|                   161|\n",
            "|        Jharkhand|                  1323|\n",
            "|Arunachal Pradesh|                    17|\n",
            "|          Gujarat|                   928|\n",
            "|            Delhi|                  1802|\n",
            "+-----------------+----------------------+\n",
            "only showing top 20 rows\n",
            "\n"
          ]
        }
      ]
    },
    {
      "cell_type": "markdown",
      "source": [
        "To find the total Aadhar's generated by each state, I used sum aggregate function and grouped it as per the state's name."
      ],
      "metadata": {
        "id": "xE1PyneNU8GL"
      }
    },
    {
      "cell_type": "markdown",
      "source": [
        "###2.Create a dataframe with the Total Aadhaar's generated by each enrollment agency."
      ],
      "metadata": {
        "id": "w8MKFZ6TVtLw"
      }
    },
    {
      "cell_type": "code",
      "source": [
        "get_filtered_data.groupby(\"Enrolment Agency\").agg(f.sum(\"Aadhaar generated\").alias(\"Total_Aadhar_Generated\")).show()"
      ],
      "metadata": {
        "colab": {
          "base_uri": "https://localhost:8080/"
        },
        "id": "5CcMcAmEV35l",
        "outputId": "6136b9c3-d803-41e3-e34b-6a8634913b65"
      },
      "execution_count": 14,
      "outputs": [
        {
          "output_type": "stream",
          "name": "stdout",
          "text": [
            "+--------------------+----------------------+\n",
            "|    Enrolment Agency|Total_Aadhar_Generated|\n",
            "+--------------------+----------------------+\n",
            "|    APOnline Limited|                   305|\n",
            "|  Transmoovers India|                     5|\n",
            "|     Alankit Limited|                    22|\n",
            "|Twinstar Industri...|                   381|\n",
            "|OSWAL COMPUTERS &...|                   578|\n",
            "|SHRIKRISHNA KHAND...|                     1|\n",
            "|Atalji Janasnehi ...|                  1369|\n",
            "|Sri Ramraja Sarka...|                     1|\n",
            "|Asha Security Gua...|                   164|\n",
            "|Abha Systems And ...|                    69|\n",
            "|               BASIX|                  8079|\n",
            "|Frontech Systems ...|                   109|\n",
            "|Vedavaag Systems ...|                     1|\n",
            "|A I Soc for Elect...|                  6439|\n",
            "|AVVAS INFOTECH PV...|                   256|\n",
            "|      SARADA SYSTEMS|                     8|\n",
            "|PROTEX COMPUTER P...|                  2180|\n",
            "| Agro Tech Engineers|                   527|\n",
            "|SREI INFRASTRUCTU...|                 26497|\n",
            "|VEETECHNOLOGIES P...|                  9922|\n",
            "+--------------------+----------------------+\n",
            "only showing top 20 rows\n",
            "\n"
          ]
        }
      ]
    },
    {
      "cell_type": "markdown",
      "source": [
        "###3. Create dataframe with the top 10 districts with maximum Aadhaar's generated for both Male and females?"
      ],
      "metadata": {
        "id": "foCeDm4NWNj0"
      }
    },
    {
      "cell_type": "markdown",
      "source": [
        "#### Now, we need to filter our data again as per Gender."
      ],
      "metadata": {
        "id": "-wUaspIhgyYZ"
      }
    },
    {
      "cell_type": "code",
      "source": [
        "res1= get_filtered_data.groupBy(\"District\",\"Gender\").sum(\"Aadhaar generated\")"
      ],
      "metadata": {
        "id": "7eYzU3d_WVqm"
      },
      "execution_count": 15,
      "outputs": []
    },
    {
      "cell_type": "code",
      "source": [
        "get_male_data= res1.filter(res1[\"Gender\"]==\"M\")\n",
        "get_male_top10= get_male_data.orderBy(f.desc(\"Sum(Aadhaar generated)\")).limit(10)\n",
        "get_male_top10.show()"
      ],
      "metadata": {
        "colab": {
          "base_uri": "https://localhost:8080/"
        },
        "id": "HwGHF-ZrhXOF",
        "outputId": "70e904d2-3c16-4c14-faca-4a2d908f851a"
      },
      "execution_count": 16,
      "outputs": [
        {
          "output_type": "stream",
          "name": "stdout",
          "text": [
            "+-----------------+------+----------------------+\n",
            "|         District|Gender|sum(Aadhaar generated)|\n",
            "+-----------------+------+----------------------+\n",
            "|            Nadia|     M|                  1819|\n",
            "|South 24 Parganas|     M|                  1439|\n",
            "|        Bhagalpur|     M|                  1261|\n",
            "|      Murshidabad|     M|                  1168|\n",
            "|North 24 Parganas|     M|                  1068|\n",
            "|       Barddhaman|     M|                  1033|\n",
            "|           Jaipur|     M|                   906|\n",
            "|          Katihar|     M|                   837|\n",
            "|   Uttar Dinajpur|     M|                   833|\n",
            "|         Khagaria|     M|                   829|\n",
            "+-----------------+------+----------------------+\n",
            "\n"
          ]
        }
      ]
    },
    {
      "cell_type": "markdown",
      "source": [
        "**Now, we will do the same for sorting females data as we did for males.**"
      ],
      "metadata": {
        "id": "PUc24vLziFZf"
      }
    },
    {
      "cell_type": "code",
      "source": [
        "get_female_data= res1.filter(res1[\"Gender\"]==\"F\")\n",
        "get_female_top10= get_female_data.orderBy(f.desc(\"Sum(Aadhaar generated)\")).limit(10)\n",
        "get_female_top10.show()"
      ],
      "metadata": {
        "colab": {
          "base_uri": "https://localhost:8080/"
        },
        "id": "govhZWjaiSUQ",
        "outputId": "fcb71105-1751-4388-803e-e071c6269c19"
      },
      "execution_count": 17,
      "outputs": [
        {
          "output_type": "stream",
          "name": "stdout",
          "text": [
            "+-----------------+------+----------------------+\n",
            "|         District|Gender|sum(Aadhaar generated)|\n",
            "+-----------------+------+----------------------+\n",
            "|           Budaun|     F|                  2360|\n",
            "|North 24 Parganas|     F|                  1881|\n",
            "|   Ramanathapuram|     F|                  1349|\n",
            "|            Saran|     F|                   954|\n",
            "|South 24 Parganas|     F|                   934|\n",
            "|      Tirunelveli|     F|                   913|\n",
            "|       Coimbatore|     F|                   835|\n",
            "|            Karur|     F|                   819|\n",
            "|            Patna|     F|                   638|\n",
            "|            Nadia|     F|                   620|\n",
            "+-----------------+------+----------------------+\n",
            "\n"
          ]
        }
      ]
    },
    {
      "cell_type": "markdown",
      "source": [
        "###4. Create a dataframe with Total Aadhaar generated for the top 10 least states"
      ],
      "metadata": {
        "id": "IFP6A9QIdQI4"
      }
    },
    {
      "cell_type": "code",
      "source": [
        "res2=get_filtered_data.groupby(\"State\").sum(\"Aadhaar generated\")\n",
        "least10_states= res2.orderBy(f.asc(\"Sum(Aadhaar generated)\")).limit(10).show()"
      ],
      "metadata": {
        "colab": {
          "base_uri": "https://localhost:8080/"
        },
        "id": "Kb4cIQOSdrP5",
        "outputId": "c1d8ef8f-1f7b-4449-8369-b17189f42dbf"
      },
      "execution_count": 20,
      "outputs": [
        {
          "output_type": "stream",
          "name": "stdout",
          "text": [
            "+--------------------+----------------------+\n",
            "|               State|sum(Aadhaar generated)|\n",
            "+--------------------+----------------------+\n",
            "|              Others|                     1|\n",
            "|Andaman and Nicob...|                     3|\n",
            "|                 Goa|                     5|\n",
            "|             Manipur|                     6|\n",
            "|             Tripura|                     6|\n",
            "|          Puducherry|                     7|\n",
            "|           Meghalaya|                     9|\n",
            "|            Nagaland|                    11|\n",
            "|    Himachal Pradesh|                    12|\n",
            "|   Arunachal Pradesh|                    17|\n",
            "+--------------------+----------------------+\n",
            "\n"
          ]
        }
      ]
    },
    {
      "cell_type": "markdown",
      "source": [
        "###5. For which age, most Aadhar cards have declined?"
      ],
      "metadata": {
        "id": "4a3mn0iBfCgK"
      }
    },
    {
      "cell_type": "markdown",
      "source": [
        "**Now, Aadhaar declined means value=0. So, here we will filter according to this condition.**"
      ],
      "metadata": {
        "id": "wESTcLi_kVYD"
      }
    },
    {
      "cell_type": "code",
      "source": [
        "filter_aadhaar_decline=df.filter(df[\"Aadhaar generated\"]<1)"
      ],
      "metadata": {
        "id": "Bnx6SZyBkhpa"
      },
      "execution_count": 21,
      "outputs": []
    },
    {
      "cell_type": "code",
      "source": [
        "res3=filter_aadhaar_decline.groupBy(\"Age\").count()\n",
        "final_res=res3.orderBy(f.desc(\"count\")).limit(10)\n",
        "final_res.show()"
      ],
      "metadata": {
        "colab": {
          "base_uri": "https://localhost:8080/"
        },
        "id": "5GtV_hmak1Mi",
        "outputId": "b72bb26c-9324-4bfe-af41-e00b7b61acac"
      },
      "execution_count": 22,
      "outputs": [
        {
          "output_type": "stream",
          "name": "stdout",
          "text": [
            "+---+-----+\n",
            "|Age|count|\n",
            "+---+-----+\n",
            "|  4|  185|\n",
            "|  3|  151|\n",
            "|  2|  141|\n",
            "|  1|  123|\n",
            "|  5|  107|\n",
            "|  6|   92|\n",
            "|  0|   82|\n",
            "|  7|   77|\n",
            "|  8|   50|\n",
            "|  9|   49|\n",
            "+---+-----+\n",
            "\n"
          ]
        }
      ]
    }
  ]
}